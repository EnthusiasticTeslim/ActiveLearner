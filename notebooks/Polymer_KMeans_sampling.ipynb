{
 "cells": [
  {
   "cell_type": "code",
   "execution_count": 1,
   "metadata": {},
   "outputs": [],
   "source": [
    "%load_ext autoreload\n",
    "%autoreload 2"
   ]
  },
  {
   "cell_type": "markdown",
   "metadata": {},
   "source": [
    "# 1. Load libraries"
   ]
  },
  {
   "cell_type": "code",
   "execution_count": 2,
   "metadata": {},
   "outputs": [
    {
     "name": "stderr",
     "output_type": "stream",
     "text": [
      "/Users/gbemidebe/miniconda3/envs/ActiveLearn/lib/python3.8/site-packages/tqdm/auto.py:21: TqdmWarning: IProgress not found. Please update jupyter and ipywidgets. See https://ipywidgets.readthedocs.io/en/stable/user_install.html\n",
      "  from .autonotebook import tqdm as notebook_tqdm\n"
     ]
    }
   ],
   "source": [
    "import pandas as pd\n",
    "import numpy as np\n",
    "import torch\n",
    "import sys\n",
    "import matplotlib.pyplot as plt"
   ]
  },
  {
   "cell_type": "code",
   "execution_count": 3,
   "metadata": {},
   "outputs": [],
   "source": [
    "plt.rcParams['mathtext.fontset'] = 'cm'\n",
    "plt.rcParams[\"font.family\"] = \"serif\"\n",
    "plt.rcParams[\"font.serif\"] = [\"Times New Roman\"\n",
    "                                                ] + plt.rcParams[\"font.serif\"]\n",
    "plt.rcParams['font.size'] = 13\n",
    "plt.rcParams['figure.dpi'] = 300"
   ]
  },
  {
   "cell_type": "code",
   "execution_count": 4,
   "metadata": {},
   "outputs": [],
   "source": [
    "# fix random seed\n",
    "seed = 123\n",
    "np.random.seed(seed)\n",
    "torch.manual_seed(seed)\n",
    "torch.backends.cudnn.enabled = False"
   ]
  },
  {
   "cell_type": "code",
   "execution_count": 5,
   "metadata": {},
   "outputs": [],
   "source": [
    "sys.path.append('..')\n",
    "from src.query import RandomSampling, LeastConfidence, MarginSampling, EntropySampling, \\\n",
    "                             LeastConfidenceDropout, MarginSamplingDropout, EntropySamplingDropout, \\\n",
    "                             KMeansSampling, KCenterGreedy, BALDDropout, \\\n",
    "                             AdversarialBIM, AdversarialDeepFool\n",
    "from src.preprocessing import Handler, Data\n",
    "from src.network import Net, Regressor\n",
    "from src.utils import plot_heat_map, plot_data, show_performance, runAL"
   ]
  },
  {
   "cell_type": "markdown",
   "metadata": {},
   "source": [
    "# 2. Load Data"
   ]
  },
  {
   "cell_type": "code",
   "execution_count": 6,
   "metadata": {},
   "outputs": [
    {
     "data": {
      "text/html": [
       "<div>\n",
       "<style scoped>\n",
       "    .dataframe tbody tr th:only-of-type {\n",
       "        vertical-align: middle;\n",
       "    }\n",
       "\n",
       "    .dataframe tbody tr th {\n",
       "        vertical-align: top;\n",
       "    }\n",
       "\n",
       "    .dataframe thead th {\n",
       "        text-align: right;\n",
       "    }\n",
       "</style>\n",
       "<table border=\"1\" class=\"dataframe\">\n",
       "  <thead>\n",
       "    <tr style=\"text-align: right;\">\n",
       "      <th></th>\n",
       "      <th>Protein Adsorption (ng/cm2)</th>\n",
       "      <th>Mn</th>\n",
       "      <th>Density</th>\n",
       "      <th>Thickness</th>\n",
       "      <th>Sub_Ad</th>\n",
       "      <th>pH</th>\n",
       "      <th>Temp</th>\n",
       "      <th>Pro_Conc</th>\n",
       "      <th>Ionic strength</th>\n",
       "      <th>Flow rate</th>\n",
       "      <th>Pol_Type</th>\n",
       "      <th>Mpro</th>\n",
       "      <th>Charge</th>\n",
       "    </tr>\n",
       "  </thead>\n",
       "  <tbody>\n",
       "    <tr>\n",
       "      <th>0</th>\n",
       "      <td>1800.0</td>\n",
       "      <td>12000</td>\n",
       "      <td>0.74</td>\n",
       "      <td>11.04</td>\n",
       "      <td>3350.0</td>\n",
       "      <td>7.4</td>\n",
       "      <td>37</td>\n",
       "      <td>1.00</td>\n",
       "      <td>150</td>\n",
       "      <td>0.0</td>\n",
       "      <td>5.8</td>\n",
       "      <td>66000</td>\n",
       "      <td>-2.4</td>\n",
       "    </tr>\n",
       "    <tr>\n",
       "      <th>1</th>\n",
       "      <td>3100.0</td>\n",
       "      <td>12000</td>\n",
       "      <td>0.14</td>\n",
       "      <td>2.15</td>\n",
       "      <td>3350.0</td>\n",
       "      <td>7.4</td>\n",
       "      <td>37</td>\n",
       "      <td>1.00</td>\n",
       "      <td>150</td>\n",
       "      <td>0.0</td>\n",
       "      <td>5.8</td>\n",
       "      <td>66000</td>\n",
       "      <td>-2.4</td>\n",
       "    </tr>\n",
       "    <tr>\n",
       "      <th>2</th>\n",
       "      <td>220.0</td>\n",
       "      <td>12200</td>\n",
       "      <td>0.10</td>\n",
       "      <td>1.50</td>\n",
       "      <td>410.0</td>\n",
       "      <td>7.4</td>\n",
       "      <td>23</td>\n",
       "      <td>0.05</td>\n",
       "      <td>150</td>\n",
       "      <td>0.0</td>\n",
       "      <td>9.4</td>\n",
       "      <td>340000</td>\n",
       "      <td>-1.6</td>\n",
       "    </tr>\n",
       "    <tr>\n",
       "      <th>3</th>\n",
       "      <td>160.0</td>\n",
       "      <td>12200</td>\n",
       "      <td>0.14</td>\n",
       "      <td>2.00</td>\n",
       "      <td>410.0</td>\n",
       "      <td>7.4</td>\n",
       "      <td>23</td>\n",
       "      <td>0.05</td>\n",
       "      <td>150</td>\n",
       "      <td>0.0</td>\n",
       "      <td>9.4</td>\n",
       "      <td>340000</td>\n",
       "      <td>-1.6</td>\n",
       "    </tr>\n",
       "    <tr>\n",
       "      <th>4</th>\n",
       "      <td>50.0</td>\n",
       "      <td>12200</td>\n",
       "      <td>0.29</td>\n",
       "      <td>4.40</td>\n",
       "      <td>410.0</td>\n",
       "      <td>7.4</td>\n",
       "      <td>23</td>\n",
       "      <td>0.05</td>\n",
       "      <td>150</td>\n",
       "      <td>0.0</td>\n",
       "      <td>9.4</td>\n",
       "      <td>340000</td>\n",
       "      <td>-1.6</td>\n",
       "    </tr>\n",
       "  </tbody>\n",
       "</table>\n",
       "</div>"
      ],
      "text/plain": [
       "   Protein Adsorption (ng/cm2)     Mn  Density  Thickness  Sub_Ad   pH  Temp  \\\n",
       "0                       1800.0  12000     0.74      11.04  3350.0  7.4    37   \n",
       "1                       3100.0  12000     0.14       2.15  3350.0  7.4    37   \n",
       "2                        220.0  12200     0.10       1.50   410.0  7.4    23   \n",
       "3                        160.0  12200     0.14       2.00   410.0  7.4    23   \n",
       "4                         50.0  12200     0.29       4.40   410.0  7.4    23   \n",
       "\n",
       "   Pro_Conc  Ionic strength  Flow rate  Pol_Type    Mpro  Charge  \n",
       "0      1.00             150        0.0       5.8   66000    -2.4  \n",
       "1      1.00             150        0.0       5.8   66000    -2.4  \n",
       "2      0.05             150        0.0       9.4  340000    -1.6  \n",
       "3      0.05             150        0.0       9.4  340000    -1.6  \n",
       "4      0.05             150        0.0       9.4  340000    -1.6  "
      ]
     },
     "execution_count": 6,
     "metadata": {},
     "output_type": "execute_result"
    }
   ],
   "source": [
    "data = pd.read_excel('../data/polymer/am4c01401_si_001.xlsx')\n",
    "data.drop(columns=['Ref.'], inplace=True)\n",
    "data.head()"
   ]
  },
  {
   "cell_type": "code",
   "execution_count": 7,
   "metadata": {},
   "outputs": [
    {
     "data": {
      "text/html": [
       "<div>\n",
       "<style scoped>\n",
       "    .dataframe tbody tr th:only-of-type {\n",
       "        vertical-align: middle;\n",
       "    }\n",
       "\n",
       "    .dataframe tbody tr th {\n",
       "        vertical-align: top;\n",
       "    }\n",
       "\n",
       "    .dataframe thead th {\n",
       "        text-align: right;\n",
       "    }\n",
       "</style>\n",
       "<table border=\"1\" class=\"dataframe\">\n",
       "  <thead>\n",
       "    <tr style=\"text-align: right;\">\n",
       "      <th></th>\n",
       "      <th>count</th>\n",
       "      <th>mean</th>\n",
       "      <th>std</th>\n",
       "      <th>min</th>\n",
       "      <th>25%</th>\n",
       "      <th>50%</th>\n",
       "      <th>75%</th>\n",
       "      <th>max</th>\n",
       "    </tr>\n",
       "  </thead>\n",
       "  <tbody>\n",
       "    <tr>\n",
       "      <th>Protein Adsorption (ng/cm2)</th>\n",
       "      <td>125.0</td>\n",
       "      <td>111.306600</td>\n",
       "      <td>326.631114</td>\n",
       "      <td>0.600</td>\n",
       "      <td>6.60</td>\n",
       "      <td>25.00</td>\n",
       "      <td>100.00</td>\n",
       "      <td>3100.00</td>\n",
       "    </tr>\n",
       "    <tr>\n",
       "      <th>Mn</th>\n",
       "      <td>125.0</td>\n",
       "      <td>19227.936000</td>\n",
       "      <td>13230.917553</td>\n",
       "      <td>1380.000</td>\n",
       "      <td>11800.00</td>\n",
       "      <td>20000.00</td>\n",
       "      <td>23600.00</td>\n",
       "      <td>48800.00</td>\n",
       "    </tr>\n",
       "    <tr>\n",
       "      <th>Density</th>\n",
       "      <td>125.0</td>\n",
       "      <td>0.234776</td>\n",
       "      <td>0.158123</td>\n",
       "      <td>0.015</td>\n",
       "      <td>0.10</td>\n",
       "      <td>0.21</td>\n",
       "      <td>0.39</td>\n",
       "      <td>0.74</td>\n",
       "    </tr>\n",
       "    <tr>\n",
       "      <th>Thickness</th>\n",
       "      <td>125.0</td>\n",
       "      <td>5.914640</td>\n",
       "      <td>6.022075</td>\n",
       "      <td>0.600</td>\n",
       "      <td>1.70</td>\n",
       "      <td>3.80</td>\n",
       "      <td>6.00</td>\n",
       "      <td>23.10</td>\n",
       "    </tr>\n",
       "    <tr>\n",
       "      <th>Sub_Ad</th>\n",
       "      <td>125.0</td>\n",
       "      <td>297.072000</td>\n",
       "      <td>442.869066</td>\n",
       "      <td>20.000</td>\n",
       "      <td>81.40</td>\n",
       "      <td>161.00</td>\n",
       "      <td>410.00</td>\n",
       "      <td>3350.00</td>\n",
       "    </tr>\n",
       "    <tr>\n",
       "      <th>pH</th>\n",
       "      <td>125.0</td>\n",
       "      <td>7.320000</td>\n",
       "      <td>0.272385</td>\n",
       "      <td>6.400</td>\n",
       "      <td>7.40</td>\n",
       "      <td>7.40</td>\n",
       "      <td>7.40</td>\n",
       "      <td>7.40</td>\n",
       "    </tr>\n",
       "    <tr>\n",
       "      <th>Temp</th>\n",
       "      <td>125.0</td>\n",
       "      <td>21.640000</td>\n",
       "      <td>6.568989</td>\n",
       "      <td>4.000</td>\n",
       "      <td>23.00</td>\n",
       "      <td>23.00</td>\n",
       "      <td>25.00</td>\n",
       "      <td>37.00</td>\n",
       "    </tr>\n",
       "    <tr>\n",
       "      <th>Pro_Conc</th>\n",
       "      <td>125.0</td>\n",
       "      <td>1.599280</td>\n",
       "      <td>4.540691</td>\n",
       "      <td>0.005</td>\n",
       "      <td>0.05</td>\n",
       "      <td>0.29</td>\n",
       "      <td>1.00</td>\n",
       "      <td>20.00</td>\n",
       "    </tr>\n",
       "    <tr>\n",
       "      <th>Ionic strength</th>\n",
       "      <td>125.0</td>\n",
       "      <td>120.480000</td>\n",
       "      <td>51.959289</td>\n",
       "      <td>0.000</td>\n",
       "      <td>120.00</td>\n",
       "      <td>150.00</td>\n",
       "      <td>150.00</td>\n",
       "      <td>150.00</td>\n",
       "    </tr>\n",
       "    <tr>\n",
       "      <th>Flow rate</th>\n",
       "      <td>125.0</td>\n",
       "      <td>0.024240</td>\n",
       "      <td>0.047490</td>\n",
       "      <td>0.000</td>\n",
       "      <td>0.00</td>\n",
       "      <td>0.00</td>\n",
       "      <td>0.00</td>\n",
       "      <td>0.12</td>\n",
       "    </tr>\n",
       "    <tr>\n",
       "      <th>Pol_Type</th>\n",
       "      <td>125.0</td>\n",
       "      <td>8.113600</td>\n",
       "      <td>1.684528</td>\n",
       "      <td>5.800</td>\n",
       "      <td>5.80</td>\n",
       "      <td>9.40</td>\n",
       "      <td>9.40</td>\n",
       "      <td>9.40</td>\n",
       "    </tr>\n",
       "    <tr>\n",
       "      <th>Mpro</th>\n",
       "      <td>125.0</td>\n",
       "      <td>157574.184000</td>\n",
       "      <td>152816.307260</td>\n",
       "      <td>14307.000</td>\n",
       "      <td>14307.00</td>\n",
       "      <td>44700.00</td>\n",
       "      <td>340000.00</td>\n",
       "      <td>340000.00</td>\n",
       "    </tr>\n",
       "    <tr>\n",
       "      <th>Charge</th>\n",
       "      <td>125.0</td>\n",
       "      <td>0.396320</td>\n",
       "      <td>2.609323</td>\n",
       "      <td>-2.400</td>\n",
       "      <td>-1.60</td>\n",
       "      <td>-0.47</td>\n",
       "      <td>4.00</td>\n",
       "      <td>5.00</td>\n",
       "    </tr>\n",
       "  </tbody>\n",
       "</table>\n",
       "</div>"
      ],
      "text/plain": [
       "                             count           mean            std        min  \\\n",
       "Protein Adsorption (ng/cm2)  125.0     111.306600     326.631114      0.600   \n",
       "Mn                           125.0   19227.936000   13230.917553   1380.000   \n",
       "Density                      125.0       0.234776       0.158123      0.015   \n",
       "Thickness                    125.0       5.914640       6.022075      0.600   \n",
       "Sub_Ad                       125.0     297.072000     442.869066     20.000   \n",
       "pH                           125.0       7.320000       0.272385      6.400   \n",
       "Temp                         125.0      21.640000       6.568989      4.000   \n",
       "Pro_Conc                     125.0       1.599280       4.540691      0.005   \n",
       "Ionic strength               125.0     120.480000      51.959289      0.000   \n",
       "Flow rate                    125.0       0.024240       0.047490      0.000   \n",
       "Pol_Type                     125.0       8.113600       1.684528      5.800   \n",
       "Mpro                         125.0  157574.184000  152816.307260  14307.000   \n",
       "Charge                       125.0       0.396320       2.609323     -2.400   \n",
       "\n",
       "                                  25%       50%        75%        max  \n",
       "Protein Adsorption (ng/cm2)      6.60     25.00     100.00    3100.00  \n",
       "Mn                           11800.00  20000.00   23600.00   48800.00  \n",
       "Density                          0.10      0.21       0.39       0.74  \n",
       "Thickness                        1.70      3.80       6.00      23.10  \n",
       "Sub_Ad                          81.40    161.00     410.00    3350.00  \n",
       "pH                               7.40      7.40       7.40       7.40  \n",
       "Temp                            23.00     23.00      25.00      37.00  \n",
       "Pro_Conc                         0.05      0.29       1.00      20.00  \n",
       "Ionic strength                 120.00    150.00     150.00     150.00  \n",
       "Flow rate                        0.00      0.00       0.00       0.12  \n",
       "Pol_Type                         5.80      9.40       9.40       9.40  \n",
       "Mpro                         14307.00  44700.00  340000.00  340000.00  \n",
       "Charge                          -1.60     -0.47       4.00       5.00  "
      ]
     },
     "execution_count": 7,
     "metadata": {},
     "output_type": "execute_result"
    }
   ],
   "source": [
    "data.describe().transpose()"
   ]
  },
  {
   "cell_type": "code",
   "execution_count": 8,
   "metadata": {},
   "outputs": [
    {
     "data": {
      "text/plain": [
       "Protein Adsorption (ng/cm2)    float64\n",
       "Mn                               int64\n",
       "Density                        float64\n",
       "Thickness                      float64\n",
       "Sub_Ad                         float64\n",
       "pH                             float64\n",
       "Temp                             int64\n",
       "Pro_Conc                       float64\n",
       "Ionic strength                   int64\n",
       "Flow rate                      float64\n",
       "Pol_Type                       float64\n",
       "Mpro                             int64\n",
       "Charge                         float64\n",
       "dtype: object"
      ]
     },
     "execution_count": 8,
     "metadata": {},
     "output_type": "execute_result"
    }
   ],
   "source": [
    "data.dtypes"
   ]
  },
  {
   "cell_type": "code",
   "execution_count": 9,
   "metadata": {},
   "outputs": [
    {
     "name": "stdout",
     "output_type": "stream",
     "text": [
      "Features:  Index(['Mn', 'Density', 'Thickness', 'Sub_Ad', 'pH', 'Temp', 'Pro_Conc',\n",
      "       'Ionic strength', 'Flow rate', 'Pol_Type', 'Mpro', 'Charge'],\n",
      "      dtype='object')\n",
      "Target:  Protein Adsorption (ng/cm2)\n"
     ]
    }
   ],
   "source": [
    "features_col = data.columns[1:]\n",
    "target_col = data.columns[0]\n",
    "print('Features: ', features_col)\n",
    "print('Target: ', target_col)"
   ]
  },
  {
   "cell_type": "code",
   "execution_count": 10,
   "metadata": {},
   "outputs": [
    {
     "name": "stdout",
     "output_type": "stream",
     "text": [
      "Scaling the data\n",
      "Splitting the data\n"
     ]
    }
   ],
   "source": [
    "dataset = Data(data, features_col, target_col, test_size=0.2, random_state=42, handler=Handler)"
   ]
  },
  {
   "cell_type": "code",
   "execution_count": 11,
   "metadata": {},
   "outputs": [
    {
     "name": "stdout",
     "output_type": "stream",
     "text": [
      "number of labeled pool: 10\n",
      "number of unlabeled pool: 90\n",
      "number of testing pool: 25\n",
      "\n"
     ]
    }
   ],
   "source": [
    "# params\n",
    "params =  {'n_epoch': 100, \n",
    "               'train':{'batch_size': 32},\n",
    "               'test':{'batch_size': 32},\n",
    "               'optim':{'lr': 0.001, 'amsgrad': False}}\n",
    "device = torch.device('cuda' if torch.cuda.is_available() else 'cpu')\n",
    "net =  Net(net=Regressor(input_dim=len(features_col), n_hidden_size=32),\n",
    "           params=params, device=device)\n",
    "           \n",
    "# start experiment\n",
    "n_init_labeled = 10\n",
    "dataset.initialize_labels(n_init_labeled)\n",
    "print(f\"number of labeled pool: {n_init_labeled}\")\n",
    "print(f\"number of unlabeled pool: {dataset.n_pool - n_init_labeled}\")\n",
    "print(f\"number of testing pool: {dataset.n_test}\")\n",
    "print()"
   ]
  },
  {
   "cell_type": "code",
   "execution_count": 12,
   "metadata": {},
   "outputs": [],
   "source": [
    "# the strategy to query the data\n",
    "strategy = KMeansSampling(dataset, net)  # load strategy"
   ]
  },
  {
   "cell_type": "code",
   "execution_count": 13,
   "metadata": {},
   "outputs": [
    {
     "name": "stderr",
     "output_type": "stream",
     "text": [
      "100%|███████████████████████████████████████████████████████████| 100/100 [00:00<00:00, 2641.52it/s]\n"
     ]
    }
   ],
   "source": [
    "# first training\n",
    "strategy.train()"
   ]
  },
  {
   "cell_type": "code",
   "execution_count": 14,
   "metadata": {},
   "outputs": [
    {
     "name": "stdout",
     "output_type": "stream",
     "text": [
      "Round 0\n"
     ]
    },
    {
     "name": "stderr",
     "output_type": "stream",
     "text": [
      "  0%|                                                                       | 0/100 [00:00<?, ?it/s]"
     ]
    },
    {
     "name": "stderr",
     "output_type": "stream",
     "text": [
      "100%|███████████████████████████████████████████████████████████| 100/100 [00:00<00:00, 3381.69it/s]"
     ]
    },
    {
     "name": "stdout",
     "output_type": "stream",
     "text": [
      "Round 0 accuracy --> Train: 0.10313016307973644 Test: 0.033839870652837556\n",
      "Round 1\n"
     ]
    },
    {
     "name": "stderr",
     "output_type": "stream",
     "text": [
      "\n",
      "/Users/gbemidebe/miniconda3/envs/ActiveLearn/lib/python3.8/site-packages/sklearn/cluster/_kmeans.py:1416: FutureWarning: The default value of `n_init` will change from 10 to 'auto' in 1.4. Set the value of `n_init` explicitly to suppress the warning\n",
      "  super()._check_params_vs_input(X, default_n_init=10)\n",
      "100%|███████████████████████████████████████████████████████████| 100/100 [00:00<00:00, 2361.50it/s]\n",
      "/Users/gbemidebe/miniconda3/envs/ActiveLearn/lib/python3.8/site-packages/sklearn/cluster/_kmeans.py:1416: FutureWarning: The default value of `n_init` will change from 10 to 'auto' in 1.4. Set the value of `n_init` explicitly to suppress the warning\n",
      "  super()._check_params_vs_input(X, default_n_init=10)\n"
     ]
    },
    {
     "name": "stdout",
     "output_type": "stream",
     "text": [
      "accuracy --> Train: 0.120 Test: 0.018\n",
      "rmse --> Train: 297.094 Test: 352.628\n",
      "mae --> Train: 74.239 Test: 125.491\n",
      "evs --> Train: 0.122 Test: 0.038\n",
      "Round 2\n"
     ]
    },
    {
     "name": "stderr",
     "output_type": "stream",
     "text": [
      "100%|███████████████████████████████████████████████████████████| 100/100 [00:00<00:00, 2713.99it/s]\n",
      "/Users/gbemidebe/miniconda3/envs/ActiveLearn/lib/python3.8/site-packages/sklearn/cluster/_kmeans.py:1416: FutureWarning: The default value of `n_init` will change from 10 to 'auto' in 1.4. Set the value of `n_init` explicitly to suppress the warning\n",
      "  super()._check_params_vs_input(X, default_n_init=10)\n"
     ]
    },
    {
     "name": "stdout",
     "output_type": "stream",
     "text": [
      "accuracy --> Train: 0.226 Test: 0.052\n",
      "rmse --> Train: 278.558 Test: 346.447\n",
      "mae --> Train: 63.757 Test: 109.551\n",
      "evs --> Train: 0.229 Test: 0.075\n",
      "Round 3\n"
     ]
    },
    {
     "name": "stderr",
     "output_type": "stream",
     "text": [
      "100%|███████████████████████████████████████████████████████████| 100/100 [00:00<00:00, 1520.24it/s]\n",
      "/Users/gbemidebe/miniconda3/envs/ActiveLearn/lib/python3.8/site-packages/sklearn/cluster/_kmeans.py:1416: FutureWarning: The default value of `n_init` will change from 10 to 'auto' in 1.4. Set the value of `n_init` explicitly to suppress the warning\n",
      "  super()._check_params_vs_input(X, default_n_init=10)\n"
     ]
    },
    {
     "name": "stdout",
     "output_type": "stream",
     "text": [
      "accuracy --> Train: 0.561 Test: 0.319\n",
      "rmse --> Train: 209.805 Test: 293.603\n",
      "mae --> Train: 97.506 Test: 137.601\n",
      "evs --> Train: 0.594 Test: 0.323\n",
      "Round 4\n"
     ]
    },
    {
     "name": "stderr",
     "output_type": "stream",
     "text": [
      "100%|███████████████████████████████████████████████████████████| 100/100 [00:00<00:00, 1424.40it/s]\n",
      "/Users/gbemidebe/miniconda3/envs/ActiveLearn/lib/python3.8/site-packages/sklearn/cluster/_kmeans.py:1416: FutureWarning: The default value of `n_init` will change from 10 to 'auto' in 1.4. Set the value of `n_init` explicitly to suppress the warning\n",
      "  super()._check_params_vs_input(X, default_n_init=10)\n"
     ]
    },
    {
     "name": "stdout",
     "output_type": "stream",
     "text": [
      "accuracy --> Train: 0.924 Test: 0.936\n",
      "rmse --> Train: 87.295 Test: 90.011\n",
      "mae --> Train: 42.283 Test: 48.542\n",
      "evs --> Train: 0.924 Test: 0.936\n",
      "Round 5\n"
     ]
    },
    {
     "name": "stderr",
     "output_type": "stream",
     "text": [
      "100%|███████████████████████████████████████████████████████████| 100/100 [00:00<00:00, 1457.19it/s]\n",
      "/Users/gbemidebe/miniconda3/envs/ActiveLearn/lib/python3.8/site-packages/sklearn/cluster/_kmeans.py:1416: FutureWarning: The default value of `n_init` will change from 10 to 'auto' in 1.4. Set the value of `n_init` explicitly to suppress the warning\n",
      "  super()._check_params_vs_input(X, default_n_init=10)\n"
     ]
    },
    {
     "name": "stdout",
     "output_type": "stream",
     "text": [
      "accuracy --> Train: 0.968 Test: 0.985\n",
      "rmse --> Train: 56.366 Test: 43.960\n",
      "mae --> Train: 32.260 Test: 31.467\n",
      "evs --> Train: 0.969 Test: 0.985\n",
      "Round 6\n"
     ]
    },
    {
     "name": "stderr",
     "output_type": "stream",
     "text": [
      "100%|███████████████████████████████████████████████████████████| 100/100 [00:00<00:00, 1476.15it/s]\n",
      "/Users/gbemidebe/miniconda3/envs/ActiveLearn/lib/python3.8/site-packages/sklearn/cluster/_kmeans.py:1416: FutureWarning: The default value of `n_init` will change from 10 to 'auto' in 1.4. Set the value of `n_init` explicitly to suppress the warning\n",
      "  super()._check_params_vs_input(X, default_n_init=10)\n"
     ]
    },
    {
     "name": "stdout",
     "output_type": "stream",
     "text": [
      "accuracy --> Train: 0.983 Test: 0.983\n",
      "rmse --> Train: 41.080 Test: 45.854\n",
      "mae --> Train: 25.094 Test: 33.595\n",
      "evs --> Train: 0.984 Test: 0.984\n",
      "Round 7\n"
     ]
    },
    {
     "name": "stderr",
     "output_type": "stream",
     "text": [
      "100%|███████████████████████████████████████████████████████████| 100/100 [00:00<00:00, 1004.89it/s]\n",
      "/Users/gbemidebe/miniconda3/envs/ActiveLearn/lib/python3.8/site-packages/sklearn/cluster/_kmeans.py:1416: FutureWarning: The default value of `n_init` will change from 10 to 'auto' in 1.4. Set the value of `n_init` explicitly to suppress the warning\n",
      "  super()._check_params_vs_input(X, default_n_init=10)\n"
     ]
    },
    {
     "name": "stdout",
     "output_type": "stream",
     "text": [
      "accuracy --> Train: 0.985 Test: 0.987\n",
      "rmse --> Train: 38.940 Test: 40.871\n",
      "mae --> Train: 24.311 Test: 30.105\n",
      "evs --> Train: 0.986 Test: 0.987\n",
      "Round 8\n"
     ]
    },
    {
     "name": "stderr",
     "output_type": "stream",
     "text": [
      "100%|███████████████████████████████████████████████████████████| 100/100 [00:00<00:00, 1015.08it/s]"
     ]
    },
    {
     "name": "stdout",
     "output_type": "stream",
     "text": [
      "accuracy --> Train: 0.992 Test: 0.988\n",
      "rmse --> Train: 28.955 Test: 38.647\n",
      "mae --> Train: 17.354 Test: 29.201\n",
      "evs --> Train: 0.992 Test: 0.988\n"
     ]
    },
    {
     "name": "stderr",
     "output_type": "stream",
     "text": [
      "\n"
     ]
    }
   ],
   "source": [
    "train, test = runAL(strategy, dataset, n_round= 8, n_query = 8)"
   ]
  },
  {
   "cell_type": "code",
   "execution_count": 15,
   "metadata": {},
   "outputs": [
    {
     "data": {
      "image/png": "[encoded data removed]",
      "text/plain": [
       "<Figure size 600x400 with 1 Axes>"
      ]
     },
     "metadata": {},
     "output_type": "display_data"
    }
   ],
   "source": [
    "plot_data(train, test, data, target_col)"
   ]
  },
  {
   "cell_type": "code",
   "execution_count": 16,
   "metadata": {},
   "outputs": [
    {
     "data": {
      "image/png": "[encoded data removed]",
      "text/plain": [
       "<Figure size 1200x600 with 2 Axes>"
      ]
     },
     "metadata": {},
     "output_type": "display_data"
    }
   ],
   "source": [
    "approach ='KMeansSampling'\n",
    "show_performance(train, test, method=approach, save_fig=True)"
   ]
  },
  {
   "cell_type": "code",
   "execution_count": 17,
   "metadata": {},
   "outputs": [],
   "source": [
    "# write train, test to numpy\n",
    "np.save(f'../reports/data/{approach}_train.npy', np.array(train, dtype=object), allow_pickle=True)\n",
    "np.save(f'../reports/data/{approach}_test.npy', np.array(test, dtype=object), allow_pickle=True)"
   ]
  }
 ],
 "metadata": {
  "kernelspec": {
   "display_name": "ActiveLearn",
   "language": "python",
   "name": "python3"
  },
  "language_info": {
   "codemirror_mode": {
    "name": "ipython",
    "version": 3
   },
   "file_extension": ".py",
   "mimetype": "text/x-python",
   "name": "python",
   "nbconvert_exporter": "python",
   "pygments_lexer": "ipython3",
   "version": "3.8.19"
  }
 },
 "nbformat": 4,
 "nbformat_minor": 2
}
