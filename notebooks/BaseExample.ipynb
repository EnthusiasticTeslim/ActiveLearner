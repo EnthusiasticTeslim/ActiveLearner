{
 "cells": [
  {
   "cell_type": "markdown",
   "metadata": {},
   "source": [
    "# Import Library"
   ]
  },
  {
   "cell_type": "code",
   "execution_count": null,
   "metadata": {},
   "outputs": [],
   "source": [
    "import numpy as np\n",
    "from sklearn.datasets import load_iris\n",
    "from sklearn.decomposition import PCA\n",
    "from sklearn.manifold import TSNE\n",
    "%matplotlib inline\n",
    "import matplotlib as mpl\n",
    "import matplotlib.pyplot as plt\n",
    "# Set our RNG seed for reproducibility.\n",
    "RANDOM_STATE_SEED = 123\n",
    "np.random.seed(RANDOM_STATE_SEED)"
   ]
  },
  {
   "cell_type": "markdown",
   "metadata": {},
   "source": [
    "# Get Dataset"
   ]
  },
  {
   "cell_type": "code",
   "execution_count": null,
   "metadata": {},
   "outputs": [],
   "source": [
    "iris = load_iris()\n",
    "Xdata, ydata = iris['data'], iris['target']\n",
    "print('IRIS data shape: {}'.format(Xdata.shape))\n",
    "print('IRIS target shape: {}'.format(ydata.shape))"
   ]
  },
  {
   "cell_type": "code",
   "execution_count": null,
   "metadata": {},
   "outputs": [],
   "source": [
    "# unique values in y\n",
    "print(np.unique(ydata))"
   ]
  },
  {
   "cell_type": "code",
   "execution_count": null,
   "metadata": {},
   "outputs": [],
   "source": [
    "# TSNE\n",
    "tsne = TSNE(n_components=2, random_state=RANDOM_STATE_SEED)\n",
    "Xdata_dr = tsne.fit_transform(Xdata)"
   ]
  },
  {
   "cell_type": "code",
   "execution_count": null,
   "metadata": {},
   "outputs": [],
   "source": [
    "# Plot our dimensionality-reduced (via PCA) dataset.\n",
    "plt.figure(figsize=(5, 3), dpi=130)\n",
    "plt.scatter(x=Xdata_dr[:, 0], y=Xdata_dr[:, 1], c=ydata, cmap='viridis', s=10, alpha=8/10)\n",
    "plt.xlabel('DR 1')\n",
    "plt.ylabel('DR 2')\n",
    "plt.show()"
   ]
  },
  {
   "cell_type": "code",
   "execution_count": null,
   "metadata": {},
   "outputs": [],
   "source": [
    "# Isolate our examples for our labeled dataset.\n",
    "n_labeled_examples = Xdata.shape[0]\n",
    "training_indices = np.random.randint(low=0, high=n_labeled_examples + 1, size=3)\n",
    "print('Training indices: {}'.format(training_indices))\n",
    "Xdata_train = Xdata[training_indices]\n",
    "ydata_train = ydata[training_indices]\n",
    "# Isolate the non-training examples we'll be querying.\n",
    "X_pool = np.delete(Xdata, training_indices, axis=0)\n",
    "y_pool = np.delete(ydata, training_indices, axis=0)\n",
    "print('Pool X , y shapes: {}, {}'.format(X_pool.shape, y_pool.shape))"
   ]
  },
  {
   "cell_type": "markdown",
   "metadata": {},
   "source": [
    "# Active learning with pool-based sampling"
   ]
  },
  {
   "cell_type": "markdown",
   "metadata": {},
   "source": [
    "<img src=\"../PoolBasedLearningcycle.png\" alt=\"https://burrsettles.com/pub/settles.activelearning.pdf\" style=\"float: left; margin-right: 10px\" />"
   ]
  },
  {
   "cell_type": "code",
   "execution_count": null,
   "metadata": {},
   "outputs": [],
   "source": [
    "from sklearn.neighbors import KNeighborsClassifier\n",
    "from modAL.models import ActiveLearner"
   ]
  },
  {
   "cell_type": "code",
   "execution_count": null,
   "metadata": {},
   "outputs": [],
   "source": [
    "# set the classifier and active learning model.\n",
    "knn = KNeighborsClassifier(n_neighbors=3)\n",
    "learner = ActiveLearner(estimator=knn, X_training=Xdata_train, y_training=ydata_train)"
   ]
  },
  {
   "cell_type": "code",
   "execution_count": null,
   "metadata": {},
   "outputs": [],
   "source": [
    "# Isolate the data we'll need for plotting.\n",
    "predictions = learner.predict(Xdata)\n",
    "is_correct = (predictions == ydata)\n",
    "# Record our learner's score on the raw data.\n",
    "unqueried_score = learner.score(Xdata, ydata)\n",
    "\n",
    "# Plot our classification results.\n",
    "fig, ax = plt.subplots(figsize=(8.5, 6), dpi=130)\n",
    "ax.scatter(x=Xdata_dr[:, 0][is_correct],  y=Xdata_dr[:, 1][is_correct],  c='g', marker='+', label='Correct',   alpha=8/10)\n",
    "ax.scatter(x=Xdata_dr[:, 0][~is_correct], y=Xdata_dr[:, 1][~is_correct], c='r', marker='x', label='Incorrect', alpha=8/10)\n",
    "ax.set_xlabel('t-SNE 1')\n",
    "ax.set_ylabel('t-SNE 2')\n",
    "ax.legend()\n",
    "ax.set_title(\"base AL (Accuracy: {score:.3f})\".format(score=unqueried_score))\n",
    "plt.show()"
   ]
  },
  {
   "cell_type": "markdown",
   "metadata": {},
   "source": [
    "# Update our model by pool-based sampling our “unlabeled” dataset"
   ]
  },
  {
   "cell_type": "code",
   "execution_count": null,
   "metadata": {},
   "outputs": [],
   "source": [
    "N_QUERIES = 20\n",
    "history = [unqueried_score]\n",
    "\n",
    "for index in range(N_QUERIES):\n",
    "  # get query\n",
    "  query_index, query_instance = learner.query(X_pool)\n",
    "  # teach AL model\n",
    "  X, y = X_pool[query_index].reshape(1, -1), y_pool[query_index].reshape(1, )\n",
    "  learner.teach(X=X, y=y)\n",
    "  # remove queired instance from pool\n",
    "  X_pool, y_pool = np.delete(X_pool, query_index, axis=0), np.delete(y_pool, query_index)\n",
    "  # calculate model's accuracy.\n",
    "  model_acc = learner.score(X, y)\n",
    "  print(f'Accuracy after query {index + 1}: {model_acc:0.3f}')\n",
    "  # save performance\n",
    "  history.append(model_acc)"
   ]
  },
  {
   "cell_type": "markdown",
   "metadata": {},
   "source": [
    "# Model performance"
   ]
  },
  {
   "cell_type": "code",
   "execution_count": null,
   "metadata": {},
   "outputs": [],
   "source": [
    "fig, ax = plt.subplots(figsize=(4, 3), dpi=200)\n",
    "\n",
    "ax.plot(history)\n",
    "ax.scatter(range(len(history)), history, s=13)\n",
    "\n",
    "ax.xaxis.set_major_locator(mpl.ticker.MaxNLocator(nbins=5, integer=True))\n",
    "ax.yaxis.set_major_locator(mpl.ticker.MaxNLocator(nbins=10))\n",
    "ax.yaxis.set_major_formatter(mpl.ticker.PercentFormatter(xmax=1))\n",
    "\n",
    "ax.set_ylim([0, 1])\n",
    "\n",
    "ax.set_xlabel('Queries')\n",
    "ax.set_ylabel('Acc')\n",
    "\n",
    "plt.show()"
   ]
  },
  {
   "cell_type": "code",
   "execution_count": null,
   "metadata": {},
   "outputs": [],
   "source": [
    "# Isolate the data we'll need for plotting.\n",
    "predictions = learner.predict(Xdata)\n",
    "is_correct = (predictions == ydata)\n",
    "print(predictions.shape, is_correct.shape)\n",
    "\n",
    "fig, ax = plt.subplots(figsize=(4, 3), dpi=200)\n",
    "ax.scatter(\n",
    "            x=Xdata_dr[:, 0][is_correct],  y=Xdata_dr[:, 1][is_correct],  \n",
    "            c='b', marker='*', label='Correct')\n",
    "ax.scatter(\n",
    "            x=Xdata_dr[:, 0][~is_correct], y=Xdata_dr[:, 1][~is_correct], \n",
    "            c='r', marker='o', label='Incorrect')\n",
    "ax.set_title('{count} AL queries --> {acc:.2f}'.format(count=N_QUERIES, acc=history[-1]))\n",
    "ax.legend(loc='best')\n",
    "plt.show()"
   ]
  }
 ],
 "metadata": {
  "kernelspec": {
   "display_name": "ActiveLearn",
   "language": "python",
   "name": "python3"
  },
  "language_info": {
   "codemirror_mode": {
    "name": "ipython",
    "version": 3
   },
   "file_extension": ".py",
   "mimetype": "text/x-python",
   "name": "python",
   "nbconvert_exporter": "python",
   "pygments_lexer": "ipython3",
   "version": "3.8.19"
  }
 },
 "nbformat": 4,
 "nbformat_minor": 2
}
